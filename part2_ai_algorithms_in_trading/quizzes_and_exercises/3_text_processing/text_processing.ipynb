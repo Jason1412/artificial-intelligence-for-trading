{
 "cells": [
  {
   "cell_type": "markdown",
   "metadata": {},
   "source": [
    "# Text Processing\n",
    "\n",
    "## Capturing Text Data\n",
    "\n",
    "### Plain Text"
   ]
  },
  {
   "cell_type": "code",
   "execution_count": 1,
   "metadata": {},
   "outputs": [
    {
     "name": "stdout",
     "output_type": "stream",
     "text": [
      "Hieroglyphic writing dates from c. 3000 BC, and is composed of hundreds of symbols. A hieroglyph can represent a word, a sound, or a silent determinative; and the same symbol can serve different purposes in different contexts. Hieroglyphs were a formal script, used on stone monuments and in tombs, that could be as detailed as individual works of art.\n",
      "\n"
     ]
    }
   ],
   "source": [
    "import os\n",
    "\n",
    "# Read in a plain text file\n",
    "with open(os.path.join(\"data\", \"hieroglyph.txt\"), \"r\") as f:\n",
    "    text = f.read()\n",
    "    print(text)"
   ]
  },
  {
   "cell_type": "markdown",
   "metadata": {},
   "source": [
    "### Tabular Data"
   ]
  },
  {
   "cell_type": "code",
   "execution_count": 2,
   "metadata": {
    "scrolled": true
   },
   "outputs": [
    {
     "data": {
      "text/html": [
       "<div>\n",
       "<style scoped>\n",
       "    .dataframe tbody tr th:only-of-type {\n",
       "        vertical-align: middle;\n",
       "    }\n",
       "\n",
       "    .dataframe tbody tr th {\n",
       "        vertical-align: top;\n",
       "    }\n",
       "\n",
       "    .dataframe thead th {\n",
       "        text-align: right;\n",
       "    }\n",
       "</style>\n",
       "<table border=\"1\" class=\"dataframe\">\n",
       "  <thead>\n",
       "    <tr style=\"text-align: right;\">\n",
       "      <th></th>\n",
       "      <th>publisher</th>\n",
       "      <th>title</th>\n",
       "    </tr>\n",
       "  </thead>\n",
       "  <tbody>\n",
       "    <tr>\n",
       "      <th>0</th>\n",
       "      <td>Livemint</td>\n",
       "      <td>fed's charles plosser sees high bar for change...</td>\n",
       "    </tr>\n",
       "    <tr>\n",
       "      <th>1</th>\n",
       "      <td>IFA Magazine</td>\n",
       "      <td>us open: stocks fall after fed official hints ...</td>\n",
       "    </tr>\n",
       "    <tr>\n",
       "      <th>2</th>\n",
       "      <td>IFA Magazine</td>\n",
       "      <td>fed risks falling 'behind the curve', charles ...</td>\n",
       "    </tr>\n",
       "    <tr>\n",
       "      <th>3</th>\n",
       "      <td>Moneynews</td>\n",
       "      <td>fed's plosser: nasty weather has curbed job gr...</td>\n",
       "    </tr>\n",
       "    <tr>\n",
       "      <th>4</th>\n",
       "      <td>NASDAQ</td>\n",
       "      <td>plosser: fed may have to accelerate tapering pace</td>\n",
       "    </tr>\n",
       "  </tbody>\n",
       "</table>\n",
       "</div>"
      ],
      "text/plain": [
       "      publisher                                              title\n",
       "0      Livemint  fed's charles plosser sees high bar for change...\n",
       "1  IFA Magazine  us open: stocks fall after fed official hints ...\n",
       "2  IFA Magazine  fed risks falling 'behind the curve', charles ...\n",
       "3     Moneynews  fed's plosser: nasty weather has curbed job gr...\n",
       "4        NASDAQ  plosser: fed may have to accelerate tapering pace"
      ]
     },
     "execution_count": 2,
     "metadata": {},
     "output_type": "execute_result"
    }
   ],
   "source": [
    "import pandas as pd\n",
    "\n",
    "# Extract text column from a dataframe\n",
    "df = pd.read_csv(os.path.join(\"data\", \"news.csv\"))\n",
    "df.head()[['publisher', 'title']]\n",
    "\n",
    "# Convert text column to lowercase\n",
    "df['title'] = df['title'].str.lower()\n",
    "df.head()[['publisher', 'title']]"
   ]
  },
  {
   "cell_type": "markdown",
   "metadata": {},
   "source": [
    "### Online Resource"
   ]
  },
  {
   "cell_type": "code",
   "execution_count": 3,
   "metadata": {
    "scrolled": true
   },
   "outputs": [
    {
     "name": "stdout",
     "output_type": "stream",
     "text": [
      "{\n",
      "    \"success\": {\n",
      "        \"total\": 1\n",
      "    },\n",
      "    \"contents\": {\n",
      "        \"quotes\": [\n",
      "            {\n",
      "                \"quote\": \"We must not attach knowledge to the mind, we have to incorporate it there.\",\n",
      "                \"length\": \"74\",\n",
      "                \"author\": \"Michel de Montaigne\",\n",
      "                \"tags\": [\n",
      "                    \"inspire\",\n",
      "                    \"knowledge\",\n",
      "                    \"mind\"\n",
      "                ],\n",
      "                \"category\": \"inspire\",\n",
      "                \"language\": \"en\",\n",
      "                \"date\": \"2020-05-23\",\n",
      "                \"permalink\": \"https://theysaidso.com/quote/889033-michel-de-montaigne-we-must-not-attach-knowledge-to-the-mind-we-have-to-incorpor\",\n",
      "                \"id\": \"2VbfXi5FUI18lF4m19oVaweF\",\n",
      "                \"background\": \"https://theysaidso.com/img/qod/qod-inspire.jpg\",\n",
      "                \"title\": \"Inspiring Quote of the day\"\n",
      "            }\n",
      "        ]\n",
      "    },\n",
      "    \"baseurl\": \"https://theysaidso.com\",\n",
      "    \"copyright\": {\n",
      "        \"year\": 2022,\n",
      "        \"url\": \"https://theysaidso.com\"\n",
      "    }\n",
      "}\n",
      "We must not attach knowledge to the mind, we have to incorporate it there. \n",
      "-- Michel de Montaigne\n"
     ]
    }
   ],
   "source": [
    "import requests\n",
    "import json\n",
    "\n",
    "# Fetch data from a REST API\n",
    "r = requests.get(\n",
    "    \"https://quotes.rest/qod.json\")\n",
    "res = r.json()\n",
    "print(json.dumps(res, indent=4))\n",
    "\n",
    "# Extract relevant object and field\n",
    "q = res[\"contents\"][\"quotes\"][0]\n",
    "print(q[\"quote\"], \"\\n--\", q[\"author\"])"
   ]
  },
  {
   "cell_type": "markdown",
   "metadata": {},
   "source": [
    "## Cleaning"
   ]
  },
  {
   "cell_type": "code",
   "execution_count": 4,
   "metadata": {
    "scrolled": true
   },
   "outputs": [
    {
     "name": "stdout",
     "output_type": "stream",
     "text": [
      "<html lang=\"en\" op=\"news\"><head><meta name=\"referrer\" content=\"origin\"><meta name=\"viewport\" content=\"width=device-width, initial-scale=1.0\"><link rel=\"stylesheet\" type=\"text/css\" href=\"news.css?95YQ8pfFYzbekdQrI7s4\">\n",
      "        <link rel=\"shortcut icon\" href=\"favicon.ico\">\n",
      "          <link rel=\"alternate\" type=\"application/rss+xml\" title=\"RSS\" href=\"rss\">\n",
      "        <title>Hacker News</title></head><body><center><table id=\"hnmain\" border=\"0\" cellpadding=\"0\" cellspacing=\"0\" width=\"85%\" bgcolor=\"#f6f6ef\">\n",
      "        <tr><td bgcolor=\"#ff6600\"><table border=\"0\" cellpadding=\"0\" cellspacing=\"0\" width=\"100%\" style=\"padding:2px\"><tr><td style=\"width:18px;padding-right:4px\"><a href=\"https://news.ycombinator.com\"><img src=\"y18.gif\" width=\"18\" height=\"18\" style=\"border:1px white solid;\"></a></td>\n",
      "                  <td style=\"line-height:12pt; height:10px;\"><span class=\"pagetop\"><b class=\"hnname\"><a href=\"news\">Hacker News</a></b>\n",
      "              <a href=\"newest\">new</a> | <a href=\"front\">past</a> | <a href=\"newcomments\">comments</a> | <a href=\"ask\">ask</a> | <a href=\"show\">show</a> | <a href=\"jobs\">jobs</a> | <a href=\"submit\">submit</a>            </span></td><td style=\"text-align:right;padding-right:4px;\"><span class=\"pagetop\">\n",
      "                              <a href=\"login?goto=news\">login</a>\n",
      "                          </span></td>\n",
      "              </tr></table></td></tr>\n",
      "<tr id=\"pagespace\" title=\"\" style=\"height:10px\"></tr><tr><td><table border=\"0\" cellpadding=\"0\" cellspacing=\"0\" class=\"itemlist\">\n",
      "              <tr class='athing' id='23281634'>\n",
      "      <td align=\"right\" valign=\"top\" class=\"title\"><span class=\"rank\">1.</span></td>      <td valign=\"top\" class=\"votelinks\"><center><a id='up_23281634' href='vote?id=23281634&amp;how=up&amp;goto=news'><div class='votearrow' title='upvote'></div></a></center></td><td class=\"title\"><a href=\"https://krita.org/en/item/first-krita-beta-for-android-and-chromeos-in-play-store/\" class=\"storylink\">First Krita Beta for Android and ChromeOS in Play Store</a><span class=\"sitebit comhead\"> (<a href=\"from?site=krita.org\"><span class=\"sitestr\">krita.org</span></a>)</span></td></tr><tr><td colspan=\"2\"></td><td class=\"subtext\">\n",
      "        <span class=\"score\" id=\"score_23281634\">128 points</span> by <a href=\"user?id=reddotX\" class=\"hnuser\">reddotX</a> <span class=\"age\"><a href=\"item?id=23281634\">4 hours ago</a></span> <span id=\"unv_23281634\"></span> | <a href=\"hide?id=23281634&amp;goto=news\">hide</a> | <a href=\"item?id=23281634\">58&nbsp;comments</a>              </td></tr>\n",
      "      <tr class=\"spacer\" style=\"height:5px\"></tr>\n",
      "                <tr class='athing' id='23279160'>\n",
      "      <td align=\"right\" valign=\"top\" class=\"title\"><span class=\"rank\">2.</span></td>      <td valign=\"top\" class=\"votelinks\"><center><a id='up_23279160' href='vote?id=23279160&amp;how=up&amp;goto=news'><div class='votearrow' title='upvote'></div></a></center></td><td class=\"title\"><a href=\"https://www.bbc.com/news/technology-52777365\" class=\"storylink\">Netflix stops charging customers who never watch</a><span class=\"sitebit comhead\"> (<a href=\"from?site=bbc.com\"><span class=\"sitestr\">bbc.com</span></a>)</span></td></tr><tr><td colspan=\"2\"></td><td class=\"subtext\">\n",
      "        <span class=\"score\" id=\"score_23279160\">449 points</span> by <a href=\"user?id=d99kris\" class=\"hnuser\">d99kris</a> <span class=\"age\"><a href=\"item?id=23279160\">12 hours ago</a></span> <span id=\"unv_23279160\"></span> | <a href=\"hide?id=23279160&amp;goto=news\">hide</a> | <a href=\"item?id=23279160\">333&nbsp;comments</a>              </td></tr>\n",
      "      <tr class=\"spacer\" style=\"height:5px\"></tr>\n",
      "                <tr class='athing' id='23281994'>\n",
      "      <td align=\"right\" valign=\"top\" class=\"title\"><span class=\"rank\">3.</span></td>      <td valign=\"top\" class=\"votelinks\"><center><a id='up_23281994' href='vote?id=23281994&amp;how=up&amp;goto=news'><div class='votearrow' title='upvote'></div></a></center></td><td class=\"title\"><a href=\"https://sqlite.org/releaselog/3_32_0.html\" class=\"storylink\">SQLite 3.32.0</a><span class=\"sitebit comhead\"> (<a href=\"from?site=sqlite.org\"><span class=\"sitestr\">sqlite.org</span></a>)</span></td></tr><tr><td colspan=\"2\"></td><td class=\"subtext\">\n",
      "        <span class=\"score\" id=\"score_23281994\">127 points</span> by <a href=\"user?id=nikbackm\" class=\"hnuser\">nikbackm</a> <span class=\"age\"><a href=\"item?id=23281994\">2 hours ago</a></span> <span id=\"unv_23281994\"></span> | <a href=\"hide?id=23281994&amp;goto=news\">hide</a> | <a href=\"item?id=23281994\">33&nbsp;comments</a>              </td></tr>\n",
      "      <tr class=\"spacer\" style=\"height:5px\"></tr>\n",
      "                <tr class='athing' id='23270334'>\n",
      "      <td align=\"right\" valign=\"top\" class=\"title\"><span class=\"rank\">4.</span></td>      <td valign=\"top\" class=\"votelinks\"><center><a id='up_23270334' href='vote?id=23270334&amp;how=up&amp;goto=news'><div class='votearrow' title='upvote'></div></a></center></td><td class=\"title\"><a href=\"http://www.technovelgy.com/ct/ctnlistPubDate.asp\" class=\"storylink\">Science Fiction Timeline of Inventions</a><span class=\"sitebit comhead\"> (<a href=\"from?site=technovelgy.com\"><span class=\"sitestr\">technovelgy.com</span></a>)</span></td></tr><tr><td colspan=\"2\"></td><td class=\"subtext\">\n",
      "        <span class=\"score\" id=\"score_23270334\">40 points</span> by <a href=\"user?id=raleighm\" class=\"hnuser\">raleighm</a> <span class=\"age\"><a href=\"item?id=23270334\">4 hours ago</a></span> <span id=\"unv_23270334\"></span> | <a href=\"hide?id=23270334&amp;goto=news\">hide</a> | <a href=\"item?id=23270334\">discuss</a>              </td></tr>\n",
      "      <tr class=\"spacer\" style=\"height:5px\"></tr>\n",
      "                <tr class='athing' id='23281568'>\n",
      "      <td align=\"right\" valign=\"top\" class=\"title\"><span class=\"rank\">5.</span></td>      <td valign=\"top\" class=\"votelinks\"><center><a id='up_23281568' href='vote?id=23281568&amp;how=up&amp;goto=news'><div class='votearrow' title='upvote'></div></a></center></td><td class=\"title\"><a href=\"https://www.aquicarattino.com/blog/how-write-programming-book/\" class=\"storylink\">How to write a programming book</a><span class=\"sitebit comhead\"> (<a href=\"from?site=aquicarattino.com\"><span class=\"sitestr\">aquicarattino.com</span></a>)</span></td></tr><tr><td colspan=\"2\"></td><td class=\"subtext\">\n",
      "        <span class=\"score\" id=\"score_23281568\">32 points</span> by <a href=\"user?id=aqui_c\" class=\"hnuser\">aqui_c</a> <span class=\"age\"><a href=\"item?id=23281568\">4 hours ago</a></span> <span id=\"unv_23281568\"></span> | <a href=\"hide?id=23281568&amp;goto=news\">hide</a> | <a href=\"item?id=23281568\">5&nbsp;comments</a>              </td></tr>\n",
      "      <tr class=\"spacer\" style=\"height:5px\"></tr>\n",
      "                <tr class='athing' id='23269661'>\n",
      "      <td align=\"right\" valign=\"top\" class=\"title\"><span class=\"rank\">6.</span></td>      <td valign=\"top\" class=\"votelinks\"><center><a id='up_23269661' href='vote?id=23269661&amp;how=up&amp;goto=news'><div class='votearrow' title='upvote'></div></a></center></td><td class=\"title\"><a href=\"https://www.theregister.co.uk/2020/05/21/gitlab_phishing_pentest/\" class=\"storylink\">Gitlab phished its own work-from-home staff, and 1 in 5 fell for it</a><span class=\"sitebit comhead\"> (<a href=\"from?site=theregister.co.uk\"><span class=\"sitestr\">theregister.co.uk</span></a>)</span></td></tr><tr><td colspan=\"2\"></td><td class=\"subtext\">\n",
      "        <span class=\"score\" id=\"score_23269661\">175 points</span> by <a href=\"user?id=samizdis\" class=\"hnuser\">samizdis</a> <span class=\"age\"><a href=\"item?id=23269661\">4 hours ago</a></span> <span id=\"unv_23269661\"></span> | <a href=\"hide?id=23269661&amp;goto=news\">hide</a> | <a href=\"item?id=23269661\">107&nbsp;comments</a>              </td></tr>\n",
      "      <tr class=\"spacer\" style=\"height:5px\"></tr>\n",
      "                <tr class='athing' id='23280378'>\n",
      "      <td align=\"right\" valign=\"top\" class=\"title\"><span class=\"rank\">7.</span></td>      <td valign=\"top\" class=\"votelinks\"><center><a id='up_23280378' href='vote?id=23280378&amp;how=up&amp;goto=news'><div class='votearrow' title='upvote'></div></a></center></td><td class=\"title\"><a href=\"https://www.npr.org/2020/05/22/858800112/herd-like-movement-of-fuzzy-green-glacier-mice-baffles-scientists\" class=\"storylink\">Herd of Fuzzy Green 'Glacier Mice' Baffles Scientists</a><span class=\"sitebit comhead\"> (<a href=\"from?site=npr.org\"><span class=\"sitestr\">npr.org</span></a>)</span></td></tr><tr><td colspan=\"2\"></td><td class=\"subtext\">\n",
      "        <span class=\"score\" id=\"score_23280378\">102 points</span> by <a href=\"user?id=Xplor\" class=\"hnuser\">Xplor</a> <span class=\"age\"><a href=\"item?id=23280378\">8 hours ago</a></span> <span id=\"unv_23280378\"></span> | <a href=\"hide?id=23280378&amp;goto=news\">hide</a> | <a href=\"item?id=23280378\">31&nbsp;comments</a>              </td></tr>\n",
      "      <tr class=\"spacer\" style=\"height:5px\"></tr>\n",
      "                <tr class='athing' id='23282784'>\n",
      "      <td align=\"right\" valign=\"top\" class=\"title\"><span class=\"rank\">8.</span></td>      <td valign=\"top\" class=\"votelinks\"><center><a id='up_23282784' href='vote?id=23282784&amp;how=up&amp;goto=news'><div class='votearrow' title='upvote'></div></a></center></td><td class=\"title\"><a href=\"https://michael.stapelberg.ch/posts/2020-05-23-desk-setup/\" class=\"storylink\" rel=\"nofollow\">Stapelberg uses this: my 2020 desk setup</a><span class=\"sitebit comhead\"> (<a href=\"from?site=stapelberg.ch\"><span class=\"sitestr\">stapelberg.ch</span></a>)</span></td></tr><tr><td colspan=\"2\"></td><td class=\"subtext\">\n",
      "        <span class=\"score\" id=\"score_23282784\">4 points</span> by <a href=\"user?id=secure\" class=\"hnuser\">secure</a> <span class=\"age\"><a href=\"item?id=23282784\">37 minutes ago</a></span> <span id=\"unv_23282784\"></span> | <a href=\"hide?id=23282784&amp;goto=news\">hide</a> | <a href=\"item?id=23282784\">discuss</a>              </td></tr>\n",
      "      <tr class=\"spacer\" style=\"height:5px\"></tr>\n",
      "                <tr class='athing' id='23274668'>\n",
      "      <td align=\"right\" valign=\"top\" class=\"title\"><span class=\"rank\">9.</span></td>      <td valign=\"top\" class=\"votelinks\"><center><a id='up_23274668' href='vote?id=23274668&amp;how=up&amp;goto=news'><div class='votearrow' title='upvote'></div></a></center></td><td class=\"title\"><a href=\"https://medium.com/serverless-transformation/what-a-typical-100-serverless-architecture-looks-like-in-aws-40f252cd0ecb\" class=\"storylink\">What a typical serverless architecture looks like in AWS</a><span class=\"sitebit comhead\"> (<a href=\"from?site=medium.com\"><span class=\"sitestr\">medium.com</span></a>)</span></td></tr><tr><td colspan=\"2\"></td><td class=\"subtext\">\n",
      "        <span class=\"score\" id=\"score_23274668\">58 points</span> by <a href=\"user?id=prostoalex\" class=\"hnuser\">prostoalex</a> <span class=\"age\"><a href=\"item?id=23274668\">2 hours ago</a></span> <span id=\"unv_23274668\"></span> | <a href=\"hide?id=23274668&amp;goto=news\">hide</a> | <a href=\"item?id=23274668\">47&nbsp;comments</a>              </td></tr>\n",
      "      <tr class=\"spacer\" style=\"height:5px\"></tr>\n",
      "                <tr class='athing' id='23281564'>\n",
      "      <td align=\"right\" valign=\"top\" class=\"title\"><span class=\"rank\">10.</span></td>      <td valign=\"top\" class=\"votelinks\"><center><a id='up_23281564' href='vote?id=23281564&amp;how=up&amp;goto=news'><div class='votearrow' title='upvote'></div></a></center></td><td class=\"title\"><a href=\"https://lapcatsoftware.com/articles/catalina-executables.html\" class=\"storylink\">Catalina is checking notarization of unsigned executables</a><span class=\"sitebit comhead\"> (<a href=\"from?site=lapcatsoftware.com\"><span class=\"sitestr\">lapcatsoftware.com</span></a>)</span></td></tr><tr><td colspan=\"2\"></td><td class=\"subtext\">\n",
      "        <span class=\"score\" id=\"score_23281564\">53 points</span> by <a href=\"user?id=robenkleene\" class=\"hnuser\">robenkleene</a> <span class=\"age\"><a href=\"item?id=23281564\">4 hours ago</a></span> <span id=\"unv_23281564\"></span> | <a href=\"hide?id=23281564&amp;goto=news\">hide</a> | <a href=\"item?id=23281564\">6&nbsp;comments</a>              </td></tr>\n",
      "      <tr class=\"spacer\" style=\"height:5px\"></tr>\n",
      "                <tr class='athing' id='23280947'>\n",
      "      <td align=\"right\" valign=\"top\" class=\"title\"><span class=\"rank\">11.</span></td>      <td valign=\"top\" class=\"votelinks\"><center><a id='up_23280947' href='vote?id=23280947&amp;how=up&amp;goto=news'><div class='votearrow' title='upvote'></div></a></center></td><td class=\"title\"><a href=\"https://convos.by/2020/5/23/experimental-video-support-using-webrtc.html\" class=\"storylink\">Convos IRC client now supports video chat</a><span class=\"sitebit comhead\"> (<a href=\"from?site=convos.by\"><span class=\"sitestr\">convos.by</span></a>)</span></td></tr><tr><td colspan=\"2\"></td><td class=\"subtext\">\n",
      "        <span class=\"score\" id=\"score_23280947\">57 points</span> by <a href=\"user?id=jhthorsen\" class=\"hnuser\">jhthorsen</a> <span class=\"age\"><a href=\"item?id=23280947\">6 hours ago</a></span> <span id=\"unv_23280947\"></span> | <a href=\"hide?id=23280947&amp;goto=news\">hide</a> | <a href=\"item?id=23280947\">13&nbsp;comments</a>              </td></tr>\n",
      "      <tr class=\"spacer\" style=\"height:5px\"></tr>\n",
      "                <tr class='athing' id='23279837'>\n",
      "      <td align=\"right\" valign=\"top\" class=\"title\"><span class=\"rank\">12.</span></td>      <td valign=\"top\" class=\"votelinks\"><center><a id='up_23279837' href='vote?id=23279837&amp;how=up&amp;goto=news'><div class='votearrow' title='upvote'></div></a></center></td><td class=\"title\"><a href=\"item?id=23279837\" class=\"storylink\">Tell HN: Interviewed with Triplebyte? Your profile is about to become public</a></td></tr><tr><td colspan=\"2\"></td><td class=\"subtext\">\n",
      "        <span class=\"score\" id=\"score_23279837\">652 points</span> by <a href=\"user?id=winston_smith\" class=\"hnuser\">winston_smith</a> <span class=\"age\"><a href=\"item?id=23279837\">9 hours ago</a></span> <span id=\"unv_23279837\"></span> | <a href=\"hide?id=23279837&amp;goto=news\">hide</a> | <a href=\"item?id=23279837\">281&nbsp;comments</a>              </td></tr>\n",
      "      <tr class=\"spacer\" style=\"height:5px\"></tr>\n",
      "                <tr class='athing' id='23269697'>\n",
      "      <td align=\"right\" valign=\"top\" class=\"title\"><span class=\"rank\">13.</span></td>      <td valign=\"top\" class=\"votelinks\"><center><a id='up_23269697' href='vote?id=23269697&amp;how=up&amp;goto=news'><div class='votearrow' title='upvote'></div></a></center></td><td class=\"title\"><a href=\"https://dragonquest64.blogspot.com/2020/05/python-generated-sequence-diagrams.html\" class=\"storylink\">Python Generated Sequence Diagrams</a><span class=\"sitebit comhead\"> (<a href=\"from?site=dragonquest64.blogspot.com\"><span class=\"sitestr\">dragonquest64.blogspot.com</span></a>)</span></td></tr><tr><td colspan=\"2\"></td><td class=\"subtext\">\n",
      "        <span class=\"score\" id=\"score_23269697\">58 points</span> by <a href=\"user?id=lipeltgm\" class=\"hnuser\">lipeltgm</a> <span class=\"age\"><a href=\"item?id=23269697\">7 hours ago</a></span> <span id=\"unv_23269697\"></span> | <a href=\"hide?id=23269697&amp;goto=news\">hide</a> | <a href=\"item?id=23269697\">12&nbsp;comments</a>              </td></tr>\n",
      "      <tr class=\"spacer\" style=\"height:5px\"></tr>\n",
      "                <tr class='athing' id='23271298'>\n",
      "      <td align=\"right\" valign=\"top\" class=\"title\"><span class=\"rank\">14.</span></td>      <td valign=\"top\" class=\"votelinks\"><center><a id='up_23271298' href='vote?id=23271298&amp;how=up&amp;goto=news'><div class='votearrow' title='upvote'></div></a></center></td><td class=\"title\"><a href=\"https://github.com/rgommezz/react-native-scroll-bottom-sheet\" class=\"storylink\">Show HN: React Native scrollable bottom sheet native animations gestures 60FPS</a><span class=\"sitebit comhead\"> (<a href=\"from?site=github.com\"><span class=\"sitestr\">github.com</span></a>)</span></td></tr><tr><td colspan=\"2\"></td><td class=\"subtext\">\n",
      "        <span class=\"score\" id=\"score_23271298\">112 points</span> by <a href=\"user?id=rgommezz\" class=\"hnuser\">rgommezz</a> <span class=\"age\"><a href=\"item?id=23271298\">9 hours ago</a></span> <span id=\"unv_23271298\"></span> | <a href=\"hide?id=23271298&amp;goto=news\">hide</a> | <a href=\"item?id=23271298\">35&nbsp;comments</a>              </td></tr>\n",
      "      <tr class=\"spacer\" style=\"height:5px\"></tr>\n",
      "                <tr class='athing' id='23273247'>\n",
      "      <td align=\"right\" valign=\"top\" class=\"title\"><span class=\"rank\">15.</span></td>      <td valign=\"top\" class=\"votelinks\"><center><a id='up_23273247' href='vote?id=23273247&amp;how=up&amp;goto=news'><div class='votearrow' title='upvote'></div></a></center></td><td class=\"title\"><a href=\"https://sigpipe.macromates.com/2020/macos-catalina-slow-by-design/\" class=\"storylink\">MacOS Catalina: Slow by Design?</a><span class=\"sitebit comhead\"> (<a href=\"from?site=macromates.com\"><span class=\"sitestr\">macromates.com</span></a>)</span></td></tr><tr><td colspan=\"2\"></td><td class=\"subtext\">\n",
      "        <span class=\"score\" id=\"score_23273247\">1774 points</span> by <a href=\"user?id=jrk\" class=\"hnuser\">jrk</a> <span class=\"age\"><a href=\"item?id=23273247\">22 hours ago</a></span> <span id=\"unv_23273247\"></span> | <a href=\"hide?id=23273247&amp;goto=news\">hide</a> | <a href=\"item?id=23273247\">887&nbsp;comments</a>              </td></tr>\n",
      "      <tr class=\"spacer\" style=\"height:5px\"></tr>\n",
      "                <tr class='athing' id='23278754'>\n",
      "      <td align=\"right\" valign=\"top\" class=\"title\"><span class=\"rank\">16.</span></td>      <td valign=\"top\" class=\"votelinks\"><center><a id='up_23278754' href='vote?id=23278754&amp;how=up&amp;goto=news'><div class='votearrow' title='upvote'></div></a></center></td><td class=\"title\"><a href=\"https://oyvn.github.io/multi-room-audio-with-snapcast\" class=\"storylink\">Show HN: Multi-room audio with Snapcast and Raspberry Pi</a><span class=\"sitebit comhead\"> (<a href=\"from?site=oyvn.github.io\"><span class=\"sitestr\">oyvn.github.io</span></a>)</span></td></tr><tr><td colspan=\"2\"></td><td class=\"subtext\">\n",
      "        <span class=\"score\" id=\"score_23278754\">154 points</span> by <a href=\"user?id=elgfare\" class=\"hnuser\">elgfare</a> <span class=\"age\"><a href=\"item?id=23278754\">13 hours ago</a></span> <span id=\"unv_23278754\"></span> | <a href=\"hide?id=23278754&amp;goto=news\">hide</a> | <a href=\"item?id=23278754\">29&nbsp;comments</a>              </td></tr>\n",
      "      <tr class=\"spacer\" style=\"height:5px\"></tr>\n",
      "                <tr class='athing' id='23282278'>\n",
      "      <td align=\"right\" valign=\"top\" class=\"title\"><span class=\"rank\">17.</span></td>      <td valign=\"top\" class=\"votelinks\"><center><a id='up_23282278' href='vote?id=23282278&amp;how=up&amp;goto=news'><div class='votearrow' title='upvote'></div></a></center></td><td class=\"title\"><a href=\"item?id=23282278\" class=\"storylink\">Ask HN: How do you brand yourself as a freelancer?</a></td></tr><tr><td colspan=\"2\"></td><td class=\"subtext\">\n",
      "        <span class=\"score\" id=\"score_23282278\">10 points</span> by <a href=\"user?id=bluewalt\" class=\"hnuser\">bluewalt</a> <span class=\"age\"><a href=\"item?id=23282278\">1 hour ago</a></span> <span id=\"unv_23282278\"></span> | <a href=\"hide?id=23282278&amp;goto=news\">hide</a> | <a href=\"item?id=23282278\">3&nbsp;comments</a>              </td></tr>\n",
      "      <tr class=\"spacer\" style=\"height:5px\"></tr>\n",
      "                <tr class='athing' id='23275053'>\n",
      "      <td align=\"right\" valign=\"top\" class=\"title\"><span class=\"rank\">18.</span></td>      <td valign=\"top\" class=\"votelinks\"><center><a id='up_23275053' href='vote?id=23275053&amp;how=up&amp;goto=news'><div class='votearrow' title='upvote'></div></a></center></td><td class=\"title\"><a href=\"http://paulbuchheit.blogspot.com/2010/02/if-your-product-is-great-it-doesnt-need.html\" class=\"storylink\">If your product is great, it doesn't need to be good (2010)</a><span class=\"sitebit comhead\"> (<a href=\"from?site=paulbuchheit.blogspot.com\"><span class=\"sitestr\">paulbuchheit.blogspot.com</span></a>)</span></td></tr><tr><td colspan=\"2\"></td><td class=\"subtext\">\n",
      "        <span class=\"score\" id=\"score_23275053\">150 points</span> by <a href=\"user?id=gmays\" class=\"hnuser\">gmays</a> <span class=\"age\"><a href=\"item?id=23275053\">14 hours ago</a></span> <span id=\"unv_23275053\"></span> | <a href=\"hide?id=23275053&amp;goto=news\">hide</a> | <a href=\"item?id=23275053\">41&nbsp;comments</a>              </td></tr>\n",
      "      <tr class=\"spacer\" style=\"height:5px\"></tr>\n",
      "                <tr class='athing' id='23279731'>\n",
      "      <td align=\"right\" valign=\"top\" class=\"title\"><span class=\"rank\">19.</span></td>      <td valign=\"top\" class=\"votelinks\"><center><a id='up_23279731' href='vote?id=23279731&amp;how=up&amp;goto=news'><div class='votearrow' title='upvote'></div></a></center></td><td class=\"title\"><a href=\"https://github.com/pretzelhammer/rust-blog/blob/master/posts/common-rust-lifetime-misconceptions.md\" class=\"storylink\">Common Rust Lifetime Misconceptions</a><span class=\"sitebit comhead\"> (<a href=\"from?site=github.com\"><span class=\"sitestr\">github.com</span></a>)</span></td></tr><tr><td colspan=\"2\"></td><td class=\"subtext\">\n",
      "        <span class=\"score\" id=\"score_23279731\">101 points</span> by <a href=\"user?id=donmcc\" class=\"hnuser\">donmcc</a> <span class=\"age\"><a href=\"item?id=23279731\">10 hours ago</a></span> <span id=\"unv_23279731\"></span> | <a href=\"hide?id=23279731&amp;goto=news\">hide</a> | <a href=\"item?id=23279731\">20&nbsp;comments</a>              </td></tr>\n",
      "      <tr class=\"spacer\" style=\"height:5px\"></tr>\n",
      "                <tr class='athing' id='23282495'>\n",
      "      <td align=\"right\" valign=\"top\" class=\"title\"><span class=\"rank\">20.</span></td>      <td valign=\"top\" class=\"votelinks\"><center><a id='up_23282495' href='vote?id=23282495&amp;how=up&amp;goto=news'><div class='votearrow' title='upvote'></div></a></center></td><td class=\"title\"><a href=\"https://www.bbc.co.uk/news/business-52752172\" class=\"storylink\">Coronavirus: Leading economist warns of 10 years of depression and debt</a><span class=\"sitebit comhead\"> (<a href=\"from?site=bbc.co.uk\"><span class=\"sitestr\">bbc.co.uk</span></a>)</span></td></tr><tr><td colspan=\"2\"></td><td class=\"subtext\">\n",
      "        <span class=\"score\" id=\"score_23282495\">10 points</span> by <a href=\"user?id=phekunde\" class=\"hnuser\">phekunde</a> <span class=\"age\"><a href=\"item?id=23282495\">1 hour ago</a></span> <span id=\"unv_23282495\"></span> | <a href=\"hide?id=23282495&amp;goto=news\">hide</a> | <a href=\"item?id=23282495\">1&nbsp;comment</a>              </td></tr>\n",
      "      <tr class=\"spacer\" style=\"height:5px\"></tr>\n",
      "                <tr class='athing' id='23282023'>\n",
      "      <td align=\"right\" valign=\"top\" class=\"title\"><span class=\"rank\">21.</span></td>      <td valign=\"top\" class=\"votelinks\"><center><a id='up_23282023' href='vote?id=23282023&amp;how=up&amp;goto=news'><div class='votearrow' title='upvote'></div></a></center></td><td class=\"title\"><a href=\"https://european-pirateparty.eu/european-parliament-strongly-recommends-any-software-developed-by-and-for-the-eu-institutions-to-be-made-publicly-available-under-free-and-open-source-software-licence/\" class=\"storylink\">European parliament strongly recommends open source software</a><span class=\"sitebit comhead\"> (<a href=\"from?site=european-pirateparty.eu\"><span class=\"sitestr\">european-pirateparty.eu</span></a>)</span></td></tr><tr><td colspan=\"2\"></td><td class=\"subtext\">\n",
      "        <span class=\"score\" id=\"score_23282023\">113 points</span> by <a href=\"user?id=ashitlerferad\" class=\"hnuser\">ashitlerferad</a> <span class=\"age\"><a href=\"item?id=23282023\">2 hours ago</a></span> <span id=\"unv_23282023\"></span> | <a href=\"hide?id=23282023&amp;goto=news\">hide</a> | <a href=\"item?id=23282023\">40&nbsp;comments</a>              </td></tr>\n",
      "      <tr class=\"spacer\" style=\"height:5px\"></tr>\n",
      "                <tr class='athing' id='23277594'>\n",
      "      <td align=\"right\" valign=\"top\" class=\"title\"><span class=\"rank\">22.</span></td>      <td valign=\"top\" class=\"votelinks\"><center><a id='up_23277594' href='vote?id=23277594&amp;how=up&amp;goto=news'><div class='votearrow' title='upvote'></div></a></center></td><td class=\"title\"><a href=\"https://twitter.com/kaydo/status/1259747848502960130\" class=\"storylink\">I think my BBQ just offered to be my default browser?</a><span class=\"sitebit comhead\"> (<a href=\"from?site=twitter.com\"><span class=\"sitestr\">twitter.com</span></a>)</span></td></tr><tr><td colspan=\"2\"></td><td class=\"subtext\">\n",
      "        <span class=\"score\" id=\"score_23277594\">564 points</span> by <a href=\"user?id=Kroeler\" class=\"hnuser\">Kroeler</a> <span class=\"age\"><a href=\"item?id=23277594\">16 hours ago</a></span> <span id=\"unv_23277594\"></span> | <a href=\"hide?id=23277594&amp;goto=news\">hide</a> | <a href=\"item?id=23277594\">218&nbsp;comments</a>              </td></tr>\n",
      "      <tr class=\"spacer\" style=\"height:5px\"></tr>\n",
      "                <tr class='athing' id='23271029'>\n",
      "      <td align=\"right\" valign=\"top\" class=\"title\"><span class=\"rank\">23.</span></td>      <td valign=\"top\" class=\"votelinks\"><center><a id='up_23271029' href='vote?id=23271029&amp;how=up&amp;goto=news'><div class='votearrow' title='upvote'></div></a></center></td><td class=\"title\"><a href=\"http://www.computinghistory.org.uk/pages/56680/videogame-preservation/\" class=\"storylink\">Video Game Heritage and Preservation</a><span class=\"sitebit comhead\"> (<a href=\"from?site=computinghistory.org.uk\"><span class=\"sitestr\">computinghistory.org.uk</span></a>)</span></td></tr><tr><td colspan=\"2\"></td><td class=\"subtext\">\n",
      "        <span class=\"score\" id=\"score_23271029\">71 points</span> by <a href=\"user?id=rbanffy\" class=\"hnuser\">rbanffy</a> <span class=\"age\"><a href=\"item?id=23271029\">12 hours ago</a></span> <span id=\"unv_23271029\"></span> | <a href=\"hide?id=23271029&amp;goto=news\">hide</a> | <a href=\"item?id=23271029\">5&nbsp;comments</a>              </td></tr>\n",
      "      <tr class=\"spacer\" style=\"height:5px\"></tr>\n",
      "                <tr class='athing' id='23281601'>\n",
      "      <td align=\"right\" valign=\"top\" class=\"title\"><span class=\"rank\">24.</span></td>      <td valign=\"top\" class=\"votelinks\"><center><a id='up_23281601' href='vote?id=23281601&amp;how=up&amp;goto=news'><div class='votearrow' title='upvote'></div></a></center></td><td class=\"title\"><a href=\"https://www.techradar.com/in/news/amd-ryzen-9-3900x-price-drop-could-take-the-wind-out-of-intel-comet-lake-cpu-sales\" class=\"storylink\">AMD Ryzen 9 3900x price drop could take the wind out of Intel comet lake sales</a><span class=\"sitebit comhead\"> (<a href=\"from?site=techradar.com\"><span class=\"sitestr\">techradar.com</span></a>)</span></td></tr><tr><td colspan=\"2\"></td><td class=\"subtext\">\n",
      "        <span class=\"score\" id=\"score_23281601\">59 points</span> by <a href=\"user?id=kooskoos\" class=\"hnuser\">kooskoos</a> <span class=\"age\"><a href=\"item?id=23281601\">4 hours ago</a></span> <span id=\"unv_23281601\"></span> | <a href=\"hide?id=23281601&amp;goto=news\">hide</a> | <a href=\"item?id=23281601\">29&nbsp;comments</a>              </td></tr>\n",
      "      <tr class=\"spacer\" style=\"height:5px\"></tr>\n",
      "                <tr class='athing' id='23270269'>\n",
      "      <td align=\"right\" valign=\"top\" class=\"title\"><span class=\"rank\">25.</span></td>      <td valign=\"top\" class=\"votelinks\"><center><a id='up_23270269' href='vote?id=23270269&amp;how=up&amp;goto=news'><div class='votearrow' title='upvote'></div></a></center></td><td class=\"title\"><a href=\"https://keleshev.com/one-pass-compiler-primer\" class=\"storylink\">One-pass Compiler</a><span class=\"sitebit comhead\"> (<a href=\"from?site=keleshev.com\"><span class=\"sitestr\">keleshev.com</span></a>)</span></td></tr><tr><td colspan=\"2\"></td><td class=\"subtext\">\n",
      "        <span class=\"score\" id=\"score_23270269\">11 points</span> by <a href=\"user?id=halst\" class=\"hnuser\">halst</a> <span class=\"age\"><a href=\"item?id=23270269\">2 hours ago</a></span> <span id=\"unv_23270269\"></span> | <a href=\"hide?id=23270269&amp;goto=news\">hide</a> | <a href=\"item?id=23270269\">2&nbsp;comments</a>              </td></tr>\n",
      "      <tr class=\"spacer\" style=\"height:5px\"></tr>\n",
      "                <tr class='athing' id='23276456'>\n",
      "      <td align=\"right\" valign=\"top\" class=\"title\"><span class=\"rank\">26.</span></td>      <td valign=\"top\" class=\"votelinks\"><center><a id='up_23276456' href='vote?id=23276456&amp;how=up&amp;goto=news'><div class='votearrow' title='upvote'></div></a></center></td><td class=\"title\"><a href=\"item?id=23276456\" class=\"storylink\">Ask HN: What startup/technology is on your 'to watch' list?</a></td></tr><tr><td colspan=\"2\"></td><td class=\"subtext\">\n",
      "        <span class=\"score\" id=\"score_23276456\">691 points</span> by <a href=\"user?id=iameoghan\" class=\"hnuser\">iameoghan</a> <span class=\"age\"><a href=\"item?id=23276456\">17 hours ago</a></span> <span id=\"unv_23276456\"></span> | <a href=\"hide?id=23276456&amp;goto=news\">hide</a> | <a href=\"item?id=23276456\">508&nbsp;comments</a>              </td></tr>\n",
      "      <tr class=\"spacer\" style=\"height:5px\"></tr>\n",
      "                <tr class='athing' id='23270052'>\n",
      "      <td align=\"right\" valign=\"top\" class=\"title\"><span class=\"rank\">27.</span></td>      <td valign=\"top\" class=\"votelinks\"><center><a id='up_23270052' href='vote?id=23270052&amp;how=up&amp;goto=news'><div class='votearrow' title='upvote'></div></a></center></td><td class=\"title\"><a href=\"https://raphael.medaer.me/2020/05/21/scope-bitmap.html\" class=\"storylink\">JWT scope claim compression using a bitmap</a><span class=\"sitebit comhead\"> (<a href=\"from?site=medaer.me\"><span class=\"sitestr\">medaer.me</span></a>)</span></td></tr><tr><td colspan=\"2\"></td><td class=\"subtext\">\n",
      "        <span class=\"score\" id=\"score_23270052\">28 points</span> by <a href=\"user?id=rmedaer\" class=\"hnuser\">rmedaer</a> <span class=\"age\"><a href=\"item?id=23270052\">6 hours ago</a></span> <span id=\"unv_23270052\"></span> | <a href=\"hide?id=23270052&amp;goto=news\">hide</a> | <a href=\"item?id=23270052\">20&nbsp;comments</a>              </td></tr>\n",
      "      <tr class=\"spacer\" style=\"height:5px\"></tr>\n",
      "                <tr class='athing' id='23282209'>\n",
      "      <td align=\"right\" valign=\"top\" class=\"title\"><span class=\"rank\">28.</span></td>      <td valign=\"top\" class=\"votelinks\"><center><a id='up_23282209' href='vote?id=23282209&amp;how=up&amp;goto=news'><div class='votearrow' title='upvote'></div></a></center></td><td class=\"title\"><a href=\"https://www.independent.co.uk/life-style/gadgets-and-tech/news/internet-speed-world-record-fastest-download-a9527236.html\" class=\"storylink\">Researchers have achieved an internet speed of 44.2 terabits per second</a><span class=\"sitebit comhead\"> (<a href=\"from?site=independent.co.uk\"><span class=\"sitestr\">independent.co.uk</span></a>)</span></td></tr><tr><td colspan=\"2\"></td><td class=\"subtext\">\n",
      "        <span class=\"score\" id=\"score_23282209\">22 points</span> by <a href=\"user?id=martonlanga\" class=\"hnuser\">martonlanga</a> <span class=\"age\"><a href=\"item?id=23282209\">2 hours ago</a></span> <span id=\"unv_23282209\"></span> | <a href=\"hide?id=23282209&amp;goto=news\">hide</a> | <a href=\"item?id=23282209\">5&nbsp;comments</a>              </td></tr>\n",
      "      <tr class=\"spacer\" style=\"height:5px\"></tr>\n",
      "                <tr class='athing' id='23279299'>\n",
      "      <td align=\"right\" valign=\"top\" class=\"title\"><span class=\"rank\">29.</span></td>      <td valign=\"top\" class=\"votelinks\"><center><a id='up_23279299' href='vote?id=23279299&amp;how=up&amp;goto=news'><div class='votearrow' title='upvote'></div></a></center></td><td class=\"title\"><a href=\"https://www.beekeeperstudio.io/blog/release-1.4\" class=\"storylink\">Beekeeper Studio 1.4 – SSH Tunnels, SQL Server, and Clicking</a><span class=\"sitebit comhead\"> (<a href=\"from?site=beekeeperstudio.io\"><span class=\"sitestr\">beekeeperstudio.io</span></a>)</span></td></tr><tr><td colspan=\"2\"></td><td class=\"subtext\">\n",
      "        <span class=\"score\" id=\"score_23279299\">56 points</span> by <a href=\"user?id=rathboma\" class=\"hnuser\">rathboma</a> <span class=\"age\"><a href=\"item?id=23279299\">11 hours ago</a></span> <span id=\"unv_23279299\"></span> | <a href=\"hide?id=23279299&amp;goto=news\">hide</a> | <a href=\"item?id=23279299\">5&nbsp;comments</a>              </td></tr>\n",
      "      <tr class=\"spacer\" style=\"height:5px\"></tr>\n",
      "                <tr class='athing' id='23270133'>\n",
      "      <td align=\"right\" valign=\"top\" class=\"title\"><span class=\"rank\">30.</span></td>      <td valign=\"top\" class=\"votelinks\"><center><a id='up_23270133' href='vote?id=23270133&amp;how=up&amp;goto=news'><div class='votearrow' title='upvote'></div></a></center></td><td class=\"title\"><a href=\"https://einarwh.wordpress.com/2020/05/19/into-the-tar-pit/\" class=\"storylink\">Into the Tar Pit</a><span class=\"sitebit comhead\"> (<a href=\"from?site=einarwh.wordpress.com\"><span class=\"sitestr\">einarwh.wordpress.com</span></a>)</span></td></tr><tr><td colspan=\"2\"></td><td class=\"subtext\">\n",
      "        <span class=\"score\" id=\"score_23270133\">32 points</span> by <a href=\"user?id=tosh\" class=\"hnuser\">tosh</a> <span class=\"age\"><a href=\"item?id=23270133\">8 hours ago</a></span> <span id=\"unv_23270133\"></span> | <a href=\"hide?id=23270133&amp;goto=news\">hide</a> | <a href=\"item?id=23270133\">5&nbsp;comments</a>              </td></tr>\n",
      "      <tr class=\"spacer\" style=\"height:5px\"></tr>\n",
      "            <tr class=\"morespace\" style=\"height:10px\"></tr><tr><td colspan=\"2\"></td><td class=\"title\"><a href=\"news?p=2\" class=\"morelink\" rel=\"next\">More</a></td></tr>\n",
      "  </table>\n",
      "</td></tr>\n",
      "<tr><td><img src=\"s.gif\" height=\"10\" width=\"0\"><table width=\"100%\" cellspacing=\"0\" cellpadding=\"1\"><tr><td bgcolor=\"#ff6600\"></td></tr></table><br><center><span class=\"yclinks\"><a href=\"newsguidelines.html\">Guidelines</a>\n",
      "        | <a href=\"newsfaq.html\">FAQ</a>\n",
      "        | <a href=\"mailto:hn@ycombinator.com\">Support</a>\n",
      "        | <a href=\"https://github.com/HackerNews/API\">API</a>\n",
      "        | <a href=\"security.html\">Security</a>\n",
      "        | <a href=\"lists\">Lists</a>\n",
      "        | <a href=\"bookmarklet.html\" rel=\"nofollow\">Bookmarklet</a>\n",
      "        | <a href=\"http://www.ycombinator.com/legal/\">Legal</a>\n",
      "        | <a href=\"http://www.ycombinator.com/apply/\">Apply to YC</a>\n",
      "        | <a href=\"mailto:hn@ycombinator.com\">Contact</a></span><br><br><form method=\"get\" action=\"//hn.algolia.com/\">Search:\n",
      "          <input type=\"text\" name=\"q\" value=\"\" size=\"17\" autocorrect=\"off\" spellcheck=\"false\" autocapitalize=\"off\" autocomplete=\"false\"></form>\n",
      "            </center></td></tr>\n",
      "      </table></center></body><script type='text/javascript' src='hn.js?95YQ8pfFYzbekdQrI7s4'></script></html>\n",
      "\n"
     ]
    }
   ],
   "source": [
    "import requests\n",
    "\n",
    "# Fetch a web page\n",
    "r = requests.get(\"https://news.ycombinator.com\")\n",
    "print(r.text)"
   ]
  },
  {
   "cell_type": "code",
   "execution_count": 6,
   "metadata": {},
   "outputs": [
    {
     "name": "stdout",
     "output_type": "stream",
     "text": [
      "\n",
      "        \n",
      "          \n",
      "        Hacker News\n",
      "        \n",
      "                  Hacker News\n",
      "              new | past | comments | ask | show | jobs | submit            \n",
      "                              login\n",
      "                          \n",
      "              \n",
      "\n",
      "              \n",
      "      1.      First Krita Beta for Android and ChromeOS in Play Store (krita.org)\n",
      "        128 points by reddotX 4 hours ago  | hide | 58&nbsp;comments              \n",
      "      \n",
      "                \n",
      "      2.      Netflix stops charging customers who never watch (bbc.com)\n",
      "        449 points by d99kris 12 hours ago  | hide | 333&nbsp;comments              \n",
      "      \n",
      "                \n",
      "      3.      SQLite 3.32.0 (sqlite.org)\n",
      "        127 points by nikbackm 2 hours ago  | hide | 33&nbsp;comments              \n",
      "      \n",
      "                \n",
      "      4.      Science Fiction Timeline of Inventions (technovelgy.com)\n",
      "        40 points by raleighm 4 hours ago  | hide | discuss              \n",
      "      \n",
      "                \n",
      "      5.      How to write a programming book (aquicarattino.com)\n",
      "        32 points by aqui_c 4 hours ago  | hide | 5&nbsp;comments              \n",
      "      \n",
      "                \n",
      "      6.      Gitlab phished its own work-from-home staff, and 1 in 5 fell for it (theregister.co.uk)\n",
      "        175 points by samizdis 4 hours ago  | hide | 107&nbsp;comments              \n",
      "      \n",
      "                \n",
      "      7.      Herd of Fuzzy Green 'Glacier Mice' Baffles Scientists (npr.org)\n",
      "        102 points by Xplor 8 hours ago  | hide | 31&nbsp;comments              \n",
      "      \n",
      "                \n",
      "      8.      Stapelberg uses this: my 2020 desk setup (stapelberg.ch)\n",
      "        4 points by secure 37 minutes ago  | hide | discuss              \n",
      "      \n",
      "                \n",
      "      9.      What a typical serverless architecture looks like in AWS (medium.com)\n",
      "        58 points by prostoalex 2 hours ago  | hide | 47&nbsp;comments              \n",
      "      \n",
      "                \n",
      "      10.      Catalina is checking notarization of unsigned executables (lapcatsoftware.com)\n",
      "        53 points by robenkleene 4 hours ago  | hide | 6&nbsp;comments              \n",
      "      \n",
      "                \n",
      "      11.      Convos IRC client now supports video chat (convos.by)\n",
      "        57 points by jhthorsen 6 hours ago  | hide | 13&nbsp;comments              \n",
      "      \n",
      "                \n",
      "      12.      Tell HN: Interviewed with Triplebyte? Your profile is about to become public\n",
      "        652 points by winston_smith 9 hours ago  | hide | 281&nbsp;comments              \n",
      "      \n",
      "                \n",
      "      13.      Python Generated Sequence Diagrams (dragonquest64.blogspot.com)\n",
      "        58 points by lipeltgm 7 hours ago  | hide | 12&nbsp;comments              \n",
      "      \n",
      "                \n",
      "      14.      Show HN: React Native scrollable bottom sheet native animations gestures 60FPS (github.com)\n",
      "        112 points by rgommezz 9 hours ago  | hide | 35&nbsp;comments              \n",
      "      \n",
      "                \n",
      "      15.      MacOS Catalina: Slow by Design? (macromates.com)\n",
      "        1774 points by jrk 22 hours ago  | hide | 887&nbsp;comments              \n",
      "      \n",
      "                \n",
      "      16.      Show HN: Multi-room audio with Snapcast and Raspberry Pi (oyvn.github.io)\n",
      "        154 points by elgfare 13 hours ago  | hide | 29&nbsp;comments              \n",
      "      \n",
      "                \n",
      "      17.      Ask HN: How do you brand yourself as a freelancer?\n",
      "        10 points by bluewalt 1 hour ago  | hide | 3&nbsp;comments              \n",
      "      \n",
      "                \n",
      "      18.      If your product is great, it doesn't need to be good (2010) (paulbuchheit.blogspot.com)\n",
      "        150 points by gmays 14 hours ago  | hide | 41&nbsp;comments              \n",
      "      \n",
      "                \n",
      "      19.      Common Rust Lifetime Misconceptions (github.com)\n",
      "        101 points by donmcc 10 hours ago  | hide | 20&nbsp;comments              \n",
      "      \n",
      "                \n",
      "      20.      Coronavirus: Leading economist warns of 10 years of depression and debt (bbc.co.uk)\n",
      "        10 points by phekunde 1 hour ago  | hide | 1&nbsp;comment              \n",
      "      \n",
      "                \n",
      "      21.      European parliament strongly recommends open source software (european-pirateparty.eu)\n",
      "        113 points by ashitlerferad 2 hours ago  | hide | 40&nbsp;comments              \n",
      "      \n",
      "                \n",
      "      22.      I think my BBQ just offered to be my default browser? (twitter.com)\n",
      "        564 points by Kroeler 16 hours ago  | hide | 218&nbsp;comments              \n",
      "      \n",
      "                \n",
      "      23.      Video Game Heritage and Preservation (computinghistory.org.uk)\n",
      "        71 points by rbanffy 12 hours ago  | hide | 5&nbsp;comments              \n",
      "      \n",
      "                \n",
      "      24.      AMD Ryzen 9 3900x price drop could take the wind out of Intel comet lake sales (techradar.com)\n",
      "        59 points by kooskoos 4 hours ago  | hide | 29&nbsp;comments              \n",
      "      \n",
      "                \n",
      "      25.      One-pass Compiler (keleshev.com)\n",
      "        11 points by halst 2 hours ago  | hide | 2&nbsp;comments              \n",
      "      \n",
      "                \n",
      "      26.      Ask HN: What startup/technology is on your 'to watch' list?\n",
      "        691 points by iameoghan 17 hours ago  | hide | 508&nbsp;comments              \n",
      "      \n",
      "                \n",
      "      27.      JWT scope claim compression using a bitmap (medaer.me)\n",
      "        28 points by rmedaer 6 hours ago  | hide | 20&nbsp;comments              \n",
      "      \n",
      "                \n",
      "      28.      Researchers have achieved an internet speed of 44.2 terabits per second (independent.co.uk)\n",
      "        22 points by martonlanga 2 hours ago  | hide | 5&nbsp;comments              \n",
      "      \n",
      "                \n",
      "      29.      Beekeeper Studio 1.4 – SSH Tunnels, SQL Server, and Clicking (beekeeperstudio.io)\n",
      "        56 points by rathboma 11 hours ago  | hide | 5&nbsp;comments              \n",
      "      \n",
      "                \n",
      "      30.      Into the Tar Pit (einarwh.wordpress.com)\n",
      "        32 points by tosh 8 hours ago  | hide | 5&nbsp;comments              \n",
      "      \n",
      "            More\n",
      "  \n",
      "\n",
      "Guidelines\n",
      "        | FAQ\n",
      "        | Support\n",
      "        | API\n",
      "        | Security\n",
      "        | Lists\n",
      "        | Bookmarklet\n",
      "        | Legal\n",
      "        | Apply to YC\n",
      "        | ContactSearch:\n",
      "          \n",
      "            \n",
      "      \n",
      "\n"
     ]
    }
   ],
   "source": [
    "import re\n",
    "\n",
    "# Remove HTML tags using RegEx\n",
    "pattern = re.compile(r'<.*?>')  # tags look like <...>\n",
    "print(pattern.sub('', r.text))  # replace them with blank"
   ]
  },
  {
   "cell_type": "code",
   "execution_count": 7,
   "metadata": {},
   "outputs": [
    {
     "name": "stdout",
     "output_type": "stream",
     "text": [
      "\n",
      "        \n",
      "          \n",
      "        Hacker News\n",
      "        \n",
      "                  Hacker News\n",
      "              new | past | comments | ask | show | jobs | submit            \n",
      "                              login\n",
      "                          \n",
      "              \n",
      "\n",
      "              \n",
      "      1.      First Krita Beta for Android and ChromeOS in Play Store (krita.org)\n",
      "        128 points by reddotX 4 hours ago  | hide | 58 comments              \n",
      "      \n",
      "                \n",
      "      2.      Netflix stops charging customers who never watch (bbc.com)\n",
      "        449 points by d99kris 12 hours ago  | hide | 333 comments              \n",
      "      \n",
      "                \n",
      "      3.      SQLite 3.32.0 (sqlite.org)\n",
      "        127 points by nikbackm 2 hours ago  | hide | 33 comments              \n",
      "      \n",
      "                \n",
      "      4.      Science Fiction Timeline of Inventions (technovelgy.com)\n",
      "        40 points by raleighm 4 hours ago  | hide | discuss              \n",
      "      \n",
      "                \n",
      "      5.      How to write a programming book (aquicarattino.com)\n",
      "        32 points by aqui_c 4 hours ago  | hide | 5 comments              \n",
      "      \n",
      "                \n",
      "      6.      Gitlab phished its own work-from-home staff, and 1 in 5 fell for it (theregister.co.uk)\n",
      "        175 points by samizdis 4 hours ago  | hide | 107 comments              \n",
      "      \n",
      "                \n",
      "      7.      Herd of Fuzzy Green 'Glacier Mice' Baffles Scientists (npr.org)\n",
      "        102 points by Xplor 8 hours ago  | hide | 31 comments              \n",
      "      \n",
      "                \n",
      "      8.      Stapelberg uses this: my 2020 desk setup (stapelberg.ch)\n",
      "        4 points by secure 37 minutes ago  | hide | discuss              \n",
      "      \n",
      "                \n",
      "      9.      What a typical serverless architecture looks like in AWS (medium.com)\n",
      "        58 points by prostoalex 2 hours ago  | hide | 47 comments              \n",
      "      \n",
      "                \n",
      "      10.      Catalina is checking notarization of unsigned executables (lapcatsoftware.com)\n",
      "        53 points by robenkleene 4 hours ago  | hide | 6 comments              \n",
      "      \n",
      "                \n",
      "      11.      Convos IRC client now supports video chat (convos.by)\n",
      "        57 points by jhthorsen 6 hours ago  | hide | 13 comments              \n",
      "      \n",
      "                \n",
      "      12.      Tell HN: Interviewed with Triplebyte? Your profile is about to become public\n",
      "        652 points by winston_smith 9 hours ago  | hide | 281 comments              \n",
      "      \n",
      "                \n",
      "      13.      Python Generated Sequence Diagrams (dragonquest64.blogspot.com)\n",
      "        58 points by lipeltgm 7 hours ago  | hide | 12 comments              \n",
      "      \n",
      "                \n",
      "      14.      Show HN: React Native scrollable bottom sheet native animations gestures 60FPS (github.com)\n",
      "        112 points by rgommezz 9 hours ago  | hide | 35 comments              \n",
      "      \n",
      "                \n",
      "      15.      MacOS Catalina: Slow by Design? (macromates.com)\n",
      "        1774 points by jrk 22 hours ago  | hide | 887 comments              \n",
      "      \n",
      "                \n",
      "      16.      Show HN: Multi-room audio with Snapcast and Raspberry Pi (oyvn.github.io)\n",
      "        154 points by elgfare 13 hours ago  | hide | 29 comments              \n",
      "      \n",
      "                \n",
      "      17.      Ask HN: How do you brand yourself as a freelancer?\n",
      "        10 points by bluewalt 1 hour ago  | hide | 3 comments              \n",
      "      \n",
      "                \n",
      "      18.      If your product is great, it doesn't need to be good (2010) (paulbuchheit.blogspot.com)\n",
      "        150 points by gmays 14 hours ago  | hide | 41 comments              \n",
      "      \n",
      "                \n",
      "      19.      Common Rust Lifetime Misconceptions (github.com)\n",
      "        101 points by donmcc 10 hours ago  | hide | 20 comments              \n",
      "      \n",
      "                \n",
      "      20.      Coronavirus: Leading economist warns of 10 years of depression and debt (bbc.co.uk)\n",
      "        10 points by phekunde 1 hour ago  | hide | 1 comment              \n",
      "      \n",
      "                \n",
      "      21.      European parliament strongly recommends open source software (european-pirateparty.eu)\n",
      "        113 points by ashitlerferad 2 hours ago  | hide | 40 comments              \n",
      "      \n",
      "                \n",
      "      22.      I think my BBQ just offered to be my default browser? (twitter.com)\n",
      "        564 points by Kroeler 16 hours ago  | hide | 218 comments              \n",
      "      \n",
      "                \n",
      "      23.      Video Game Heritage and Preservation (computinghistory.org.uk)\n",
      "        71 points by rbanffy 12 hours ago  | hide | 5 comments              \n",
      "      \n",
      "                \n",
      "      24.      AMD Ryzen 9 3900x price drop could take the wind out of Intel comet lake sales (techradar.com)\n",
      "        59 points by kooskoos 4 hours ago  | hide | 29 comments              \n",
      "      \n",
      "                \n",
      "      25.      One-pass Compiler (keleshev.com)\n",
      "        11 points by halst 2 hours ago  | hide | 2 comments              \n",
      "      \n",
      "                \n",
      "      26.      Ask HN: What startup/technology is on your 'to watch' list?\n",
      "        691 points by iameoghan 17 hours ago  | hide | 508 comments              \n",
      "      \n",
      "                \n",
      "      27.      JWT scope claim compression using a bitmap (medaer.me)\n",
      "        28 points by rmedaer 6 hours ago  | hide | 20 comments              \n",
      "      \n",
      "                \n",
      "      28.      Researchers have achieved an internet speed of 44.2 terabits per second (independent.co.uk)\n",
      "        22 points by martonlanga 2 hours ago  | hide | 5 comments              \n",
      "      \n",
      "                \n",
      "      29.      Beekeeper Studio 1.4 – SSH Tunnels, SQL Server, and Clicking (beekeeperstudio.io)\n",
      "        56 points by rathboma 11 hours ago  | hide | 5 comments              \n",
      "      \n",
      "                \n",
      "      30.      Into the Tar Pit (einarwh.wordpress.com)\n",
      "        32 points by tosh 8 hours ago  | hide | 5 comments              \n",
      "      \n",
      "            More\n",
      "  \n",
      "\n",
      "Guidelines\n",
      "        | FAQ\n",
      "        | Support\n",
      "        | API\n",
      "        | Security\n",
      "        | Lists\n",
      "        | Bookmarklet\n",
      "        | Legal\n",
      "        | Apply to YC\n",
      "        | ContactSearch:\n",
      "          \n",
      "            \n",
      "      \n",
      "\n"
     ]
    }
   ],
   "source": [
    "from bs4 import BeautifulSoup\n",
    "\n",
    "# Remove HTML tags using Beautiful Soup library\n",
    "soup = BeautifulSoup(r.text, \"html5lib\")\n",
    "print(soup.get_text())"
   ]
  },
  {
   "cell_type": "code",
   "execution_count": 8,
   "metadata": {
    "scrolled": true
   },
   "outputs": [
    {
     "data": {
      "text/plain": [
       "<tr class=\"athing\" id=\"23281634\">\n",
       "      <td align=\"right\" class=\"title\" valign=\"top\"><span class=\"rank\">1.</span></td>      <td class=\"votelinks\" valign=\"top\"><center><a href=\"vote?id=23281634&amp;how=up&amp;goto=news\" id=\"up_23281634\"><div class=\"votearrow\" title=\"upvote\"></div></a></center></td><td class=\"title\"><a class=\"storylink\" href=\"https://krita.org/en/item/first-krita-beta-for-android-and-chromeos-in-play-store/\">First Krita Beta for Android and ChromeOS in Play Store</a><span class=\"sitebit comhead\"> (<a href=\"from?site=krita.org\"><span class=\"sitestr\">krita.org</span></a>)</span></td></tr>"
      ]
     },
     "execution_count": 8,
     "metadata": {},
     "output_type": "execute_result"
    }
   ],
   "source": [
    "# Find all articles\n",
    "summaries = soup.find_all(\"tr\", class_=\"athing\")\n",
    "summaries[0]"
   ]
  },
  {
   "cell_type": "code",
   "execution_count": 9,
   "metadata": {},
   "outputs": [
    {
     "data": {
      "text/plain": [
       "'First Krita Beta for Android and ChromeOS in Play Store'"
      ]
     },
     "execution_count": 9,
     "metadata": {},
     "output_type": "execute_result"
    }
   ],
   "source": [
    "# Extract title\n",
    "summaries[0].find(\"a\", class_=\"storylink\").get_text().strip()"
   ]
  },
  {
   "cell_type": "code",
   "execution_count": 10,
   "metadata": {},
   "outputs": [
    {
     "name": "stdout",
     "output_type": "stream",
     "text": [
      "30 Article summaries found. Sample:\n",
      "First Krita Beta for Android and ChromeOS in Play Store\n"
     ]
    }
   ],
   "source": [
    "# Find all articles, extract titles\n",
    "articles = []\n",
    "summaries = soup.find_all(\"tr\", class_=\"athing\")\n",
    "for summary in summaries:\n",
    "    title = summary.find(\"a\", class_=\"storylink\").get_text().strip()\n",
    "    articles.append((title))\n",
    "\n",
    "print(len(articles), \"Article summaries found. Sample:\")\n",
    "print(articles[0])"
   ]
  },
  {
   "cell_type": "markdown",
   "metadata": {
    "collapsed": true
   },
   "source": [
    "## Normalization"
   ]
  },
  {
   "cell_type": "markdown",
   "metadata": {},
   "source": [
    "### Case Normalization"
   ]
  },
  {
   "cell_type": "code",
   "execution_count": 11,
   "metadata": {},
   "outputs": [
    {
     "name": "stdout",
     "output_type": "stream",
     "text": [
      "The first time you see The Second Renaissance it may look boring. Look at it at least twice and definitely watch part 2. It will change your view of the matrix. Are the human people the ones who started the war ? Is AI a bad thing ?\n"
     ]
    }
   ],
   "source": [
    "# Sample text\n",
    "text = \"The first time you see The Second Renaissance it may look boring. Look at it at least twice and definitely watch part 2. It will change your view of the matrix. Are the human people the ones who started the war ? Is AI a bad thing ?\"\n",
    "print(text)"
   ]
  },
  {
   "cell_type": "code",
   "execution_count": 12,
   "metadata": {},
   "outputs": [
    {
     "name": "stdout",
     "output_type": "stream",
     "text": [
      "the first time you see the second renaissance it may look boring. look at it at least twice and definitely watch part 2. it will change your view of the matrix. are the human people the ones who started the war ? is ai a bad thing ?\n"
     ]
    }
   ],
   "source": [
    "# Convert to lowercase\n",
    "text = text.lower() \n",
    "print(text)"
   ]
  },
  {
   "cell_type": "markdown",
   "metadata": {},
   "source": [
    "### Punctuation Removal"
   ]
  },
  {
   "cell_type": "code",
   "execution_count": 13,
   "metadata": {},
   "outputs": [
    {
     "name": "stdout",
     "output_type": "stream",
     "text": [
      "the first time you see the second renaissance it may look boring  look at it at least twice and definitely watch part 2  it will change your view of the matrix  are the human people the ones who started the war   is ai a bad thing  \n"
     ]
    }
   ],
   "source": [
    "import re\n",
    "\n",
    "# Remove punctuation characters\n",
    "text = re.sub(r\"[^a-zA-Z0-9]\", \" \", text) \n",
    "print(text)"
   ]
  },
  {
   "cell_type": "markdown",
   "metadata": {},
   "source": [
    "## Tokenization"
   ]
  },
  {
   "cell_type": "code",
   "execution_count": 14,
   "metadata": {},
   "outputs": [
    {
     "name": "stdout",
     "output_type": "stream",
     "text": [
      "['the', 'first', 'time', 'you', 'see', 'the', 'second', 'renaissance', 'it', 'may', 'look', 'boring', 'look', 'at', 'it', 'at', 'least', 'twice', 'and', 'definitely', 'watch', 'part', '2', 'it', 'will', 'change', 'your', 'view', 'of', 'the', 'matrix', 'are', 'the', 'human', 'people', 'the', 'ones', 'who', 'started', 'the', 'war', 'is', 'ai', 'a', 'bad', 'thing']\n"
     ]
    }
   ],
   "source": [
    "# Split text into tokens (words)\n",
    "words = text.split()\n",
    "print(words)"
   ]
  },
  {
   "cell_type": "markdown",
   "metadata": {},
   "source": [
    "### NLTK: Natural Language ToolKit"
   ]
  },
  {
   "cell_type": "code",
   "execution_count": 15,
   "metadata": {},
   "outputs": [],
   "source": [
    "import os\n",
    "import nltk\n",
    "nltk.data.path.append(os.path.join(os.getcwd(), \"nltk_data\"))"
   ]
  },
  {
   "cell_type": "code",
   "execution_count": 16,
   "metadata": {},
   "outputs": [
    {
     "name": "stdout",
     "output_type": "stream",
     "text": [
      "Dr. Smith graduated from the University of Washington. He later started an analytics firm called Lux, which catered to enterprise customers.\n"
     ]
    }
   ],
   "source": [
    "# Another sample text\n",
    "text = \"Dr. Smith graduated from the University of Washington. He later started an analytics firm called Lux, which catered to enterprise customers.\"\n",
    "print(text)"
   ]
  },
  {
   "cell_type": "code",
   "execution_count": 17,
   "metadata": {},
   "outputs": [
    {
     "name": "stdout",
     "output_type": "stream",
     "text": [
      "['Dr.', 'Smith', 'graduated', 'from', 'the', 'University', 'of', 'Washington', '.', 'He', 'later', 'started', 'an', 'analytics', 'firm', 'called', 'Lux', ',', 'which', 'catered', 'to', 'enterprise', 'customers', '.']\n"
     ]
    }
   ],
   "source": [
    "from nltk.tokenize import word_tokenize\n",
    "\n",
    "# Split text into words using NLTK\n",
    "words = word_tokenize(text)\n",
    "print(words)"
   ]
  },
  {
   "cell_type": "code",
   "execution_count": 18,
   "metadata": {},
   "outputs": [
    {
     "name": "stdout",
     "output_type": "stream",
     "text": [
      "['Dr. Smith graduated from the University of Washington.', 'He later started an analytics firm called Lux, which catered to enterprise customers.']\n"
     ]
    }
   ],
   "source": [
    "from nltk.tokenize import sent_tokenize\n",
    "\n",
    "# Split text into sentences\n",
    "sentences = sent_tokenize(text)\n",
    "print(sentences)"
   ]
  },
  {
   "cell_type": "code",
   "execution_count": 19,
   "metadata": {},
   "outputs": [
    {
     "name": "stdout",
     "output_type": "stream",
     "text": [
      "['i', 'me', 'my', 'myself', 'we', 'our', 'ours', 'ourselves', 'you', \"you're\", \"you've\", \"you'll\", \"you'd\", 'your', 'yours', 'yourself', 'yourselves', 'he', 'him', 'his', 'himself', 'she', \"she's\", 'her', 'hers', 'herself', 'it', \"it's\", 'its', 'itself', 'they', 'them', 'their', 'theirs', 'themselves', 'what', 'which', 'who', 'whom', 'this', 'that', \"that'll\", 'these', 'those', 'am', 'is', 'are', 'was', 'were', 'be', 'been', 'being', 'have', 'has', 'had', 'having', 'do', 'does', 'did', 'doing', 'a', 'an', 'the', 'and', 'but', 'if', 'or', 'because', 'as', 'until', 'while', 'of', 'at', 'by', 'for', 'with', 'about', 'against', 'between', 'into', 'through', 'during', 'before', 'after', 'above', 'below', 'to', 'from', 'up', 'down', 'in', 'out', 'on', 'off', 'over', 'under', 'again', 'further', 'then', 'once', 'here', 'there', 'when', 'where', 'why', 'how', 'all', 'any', 'both', 'each', 'few', 'more', 'most', 'other', 'some', 'such', 'no', 'nor', 'not', 'only', 'own', 'same', 'so', 'than', 'too', 'very', 's', 't', 'can', 'will', 'just', 'don', \"don't\", 'should', \"should've\", 'now', 'd', 'll', 'm', 'o', 're', 've', 'y', 'ain', 'aren', \"aren't\", 'couldn', \"couldn't\", 'didn', \"didn't\", 'doesn', \"doesn't\", 'hadn', \"hadn't\", 'hasn', \"hasn't\", 'haven', \"haven't\", 'isn', \"isn't\", 'ma', 'mightn', \"mightn't\", 'mustn', \"mustn't\", 'needn', \"needn't\", 'shan', \"shan't\", 'shouldn', \"shouldn't\", 'wasn', \"wasn't\", 'weren', \"weren't\", 'won', \"won't\", 'wouldn', \"wouldn't\"]\n"
     ]
    }
   ],
   "source": [
    "# List stop words\n",
    "from nltk.corpus import stopwords\n",
    "print(stopwords.words(\"english\"))"
   ]
  },
  {
   "cell_type": "code",
   "execution_count": 20,
   "metadata": {},
   "outputs": [
    {
     "name": "stdout",
     "output_type": "stream",
     "text": [
      "['the', 'first', 'time', 'you', 'see', 'the', 'second', 'renaissance', 'it', 'may', 'look', 'boring', 'look', 'at', 'it', 'at', 'least', 'twice', 'and', 'definitely', 'watch', 'part', '2', 'it', 'will', 'change', 'your', 'view', 'of', 'the', 'matrix', 'are', 'the', 'human', 'people', 'the', 'ones', 'who', 'started', 'the', 'war', 'is', 'ai', 'a', 'bad', 'thing']\n"
     ]
    }
   ],
   "source": [
    "# Reset text\n",
    "text = \"The first time you see The Second Renaissance it may look boring. Look at it at least twice and definitely watch part 2. It will change your view of the matrix. Are the human people the ones who started the war ? Is AI a bad thing ?\"\n",
    "\n",
    "# Normalize it\n",
    "text = re.sub(r\"[^a-zA-Z0-9]\", \" \", text.lower())\n",
    "\n",
    "# Tokenize it\n",
    "words = text.split()\n",
    "print(words)"
   ]
  },
  {
   "cell_type": "code",
   "execution_count": 21,
   "metadata": {},
   "outputs": [
    {
     "name": "stdout",
     "output_type": "stream",
     "text": [
      "['first', 'time', 'see', 'second', 'renaissance', 'may', 'look', 'boring', 'look', 'least', 'twice', 'definitely', 'watch', 'part', '2', 'change', 'view', 'matrix', 'human', 'people', 'ones', 'started', 'war', 'ai', 'bad', 'thing']\n"
     ]
    }
   ],
   "source": [
    "# Remove stop words\n",
    "words = [w for w in words if w not in stopwords.words(\"english\")]\n",
    "print(words)"
   ]
  },
  {
   "cell_type": "markdown",
   "metadata": {},
   "source": [
    "### Sentence Parsing"
   ]
  },
  {
   "cell_type": "code",
   "execution_count": 22,
   "metadata": {},
   "outputs": [
    {
     "name": "stdout",
     "output_type": "stream",
     "text": [
      "(S\n",
      "  (NP I)\n",
      "  (VP\n",
      "    (VP (V shot) (NP (Det an) (N elephant)))\n",
      "    (PP (P in) (NP (Det my) (N pajamas)))))\n",
      "(S\n",
      "  (NP I)\n",
      "  (VP\n",
      "    (V shot)\n",
      "    (NP (Det an) (N elephant) (PP (P in) (NP (Det my) (N pajamas))))))\n"
     ]
    }
   ],
   "source": [
    "import nltk\n",
    "\n",
    "# Define a custom grammar\n",
    "my_grammar = nltk.CFG.fromstring(\"\"\"\n",
    "S -> NP VP\n",
    "PP -> P NP\n",
    "NP -> Det N | Det N PP | 'I'\n",
    "VP -> V NP | VP PP\n",
    "Det -> 'an' | 'my'\n",
    "N -> 'elephant' | 'pajamas'\n",
    "V -> 'shot'\n",
    "P -> 'in'\n",
    "\"\"\")\n",
    "parser = nltk.ChartParser(my_grammar)\n",
    "\n",
    "# Parse a sentence\n",
    "sentence = word_tokenize(\"I shot an elephant in my pajamas\")\n",
    "for tree in parser.parse(sentence):\n",
    "    print(tree)"
   ]
  },
  {
   "cell_type": "markdown",
   "metadata": {},
   "source": [
    "## Stemming & Lemmatization\n",
    "\n",
    "### Stemming"
   ]
  },
  {
   "cell_type": "code",
   "execution_count": 23,
   "metadata": {},
   "outputs": [
    {
     "name": "stdout",
     "output_type": "stream",
     "text": [
      "['first', 'time', 'see', 'second', 'renaiss', 'may', 'look', 'bore', 'look', 'least', 'twice', 'definit', 'watch', 'part', '2', 'chang', 'view', 'matrix', 'human', 'peopl', 'one', 'start', 'war', 'ai', 'bad', 'thing']\n"
     ]
    }
   ],
   "source": [
    "from nltk.stem.porter import PorterStemmer\n",
    "\n",
    "# Reduce words to their stems\n",
    "stemmed = [PorterStemmer().stem(w) for w in words]\n",
    "print(stemmed)"
   ]
  },
  {
   "cell_type": "markdown",
   "metadata": {},
   "source": [
    "### Lemmatization"
   ]
  },
  {
   "cell_type": "code",
   "execution_count": 24,
   "metadata": {},
   "outputs": [
    {
     "name": "stdout",
     "output_type": "stream",
     "text": [
      "['first', 'time', 'see', 'second', 'renaissance', 'may', 'look', 'boring', 'look', 'least', 'twice', 'definitely', 'watch', 'part', '2', 'change', 'view', 'matrix', 'human', 'people', 'one', 'started', 'war', 'ai', 'bad', 'thing']\n"
     ]
    }
   ],
   "source": [
    "from nltk.stem.wordnet import WordNetLemmatizer\n",
    "\n",
    "# Reduce words to their root form\n",
    "lemmed = [WordNetLemmatizer().lemmatize(w) for w in words]\n",
    "print(lemmed)"
   ]
  },
  {
   "cell_type": "code",
   "execution_count": 25,
   "metadata": {},
   "outputs": [
    {
     "name": "stdout",
     "output_type": "stream",
     "text": [
      "['first', 'time', 'see', 'second', 'renaissance', 'may', 'look', 'bore', 'look', 'least', 'twice', 'definitely', 'watch', 'part', '2', 'change', 'view', 'matrix', 'human', 'people', 'one', 'start', 'war', 'ai', 'bad', 'thing']\n"
     ]
    }
   ],
   "source": [
    "# Lemmatize verbs by specifying pos\n",
    "lemmed = [WordNetLemmatizer().lemmatize(w, pos='v') for w in lemmed]\n",
    "print(lemmed)"
   ]
  },
  {
   "cell_type": "code",
   "execution_count": null,
   "metadata": {},
   "outputs": [],
   "source": []
  }
 ],
 "metadata": {
  "kernelspec": {
   "display_name": "Python 3",
   "language": "python",
   "name": "python3"
  },
  "language_info": {
   "codemirror_mode": {
    "name": "ipython",
    "version": 3
   },
   "file_extension": ".py",
   "mimetype": "text/x-python",
   "name": "python",
   "nbconvert_exporter": "python",
   "pygments_lexer": "ipython3",
   "version": "3.6.3"
  }
 },
 "nbformat": 4,
 "nbformat_minor": 2
}
